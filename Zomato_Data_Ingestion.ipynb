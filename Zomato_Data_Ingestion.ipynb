{
 "cells": [
  {
   "cell_type": "markdown",
   "metadata": {},
   "source": [
    "## Cleaned Data Ingestion to the MySql Database."
   ]
  },
  {
   "cell_type": "code",
   "execution_count": 1,
   "metadata": {},
   "outputs": [],
   "source": [
    "import pandas as pd\n",
    "import mysql.connector\n",
    "from mysql.connector import Error"
   ]
  },
  {
   "cell_type": "code",
   "execution_count": 2,
   "metadata": {},
   "outputs": [
    {
     "name": "stdout",
     "output_type": "stream",
     "text": [
      "   Order ID  Order Amount (INR)  Delivery Time (mins) Order Date  Rating  \\\n",
      "0         1                1930                    32 2023-04-30     4.6   \n",
      "1         2                 371                    84 2023-01-06     2.7   \n",
      "\n",
      "   Number of Items  Delivery Distance (km)  Delivery Agent ID Order Status  \\\n",
      "0                9                9.200017                995    cancelled   \n",
      "1                1                8.175074                941    cancelled   \n",
      "\n",
      "  Payment Method  ...  average_cost_for_two price_range  \\\n",
      "0     debit card  ...                   200           1   \n",
      "1            upi  ...                  1000           3   \n",
      "\n",
      "                                          highlights  aggregate_rating votes  \\\n",
      "0  ['credit card', 'delivery', 'takeaway availabl...               0.0     3   \n",
      "1  ['cash', 'takeaway available', 'breakfast', 'n...               3.6    32   \n",
      "\n",
      "  photo_count opentable_support delivery          state    area  \n",
      "0           0               0.0        0         kerala   38863  \n",
      "1          30               0.0        1  uttar pradesh  240928  \n",
      "\n",
      "[2 rows x 33 columns]\n"
     ]
    }
   ],
   "source": [
    "dataset = pd.read_excel(\"cleaned_zomato_data.xlsx\")\n",
    "print(dataset.head(2))"
   ]
  },
  {
   "cell_type": "code",
   "execution_count": 3,
   "metadata": {},
   "outputs": [
    {
     "name": "stdout",
     "output_type": "stream",
     "text": [
      "✅ Database Access Granted, Syncing all Data!!\n"
     ]
    }
   ],
   "source": [
    "try:\n",
    "    conn = mysql.connector.connect(\n",
    "        host=\"localhost\",\n",
    "        user=\"root\",\n",
    "        password=\"sa1tya@1005\",\n",
    "        database=\"cleaned_zomato_data\"\n",
    "    )\n",
    "    if conn.is_connected():\n",
    "        print(\"✅ Database Access Granted, Syncing all Data!!\")\n",
    "except Error as e:\n",
    "        print(f'❌ Error : {e}')\n"
   ]
  },
  {
   "cell_type": "code",
   "execution_count": 4,
   "metadata": {},
   "outputs": [],
   "source": [
    "cursor = conn.cursor()\n",
    "\n",
    "create_table_query = \"\"\"\n",
    "CREATE TABLE IF NOT EXISTS zomato_orders (\n",
    "    `Order ID` VARCHAR(50),\n",
    "    `Order Amount (INR)` FLOAT,\n",
    "    `Delivery Time (mins)` INT,\n",
    "    `Order Date` DATE,\n",
    "    `Rating` FLOAT,\n",
    "    `Number of Items` INT,\n",
    "    `Delivery Distance (km)` FLOAT,\n",
    "    `Delivery Agent ID` VARCHAR(50),\n",
    "    `Order Status` VARCHAR(50),\n",
    "    `Payment Method` VARCHAR(50),\n",
    "    `Tip Amount (INR)` FLOAT,\n",
    "    `Promo Code Applied` VARCHAR(10),\n",
    "    `Has Free Delivery` VARCHAR(5),\n",
    "    `res_id` VARCHAR(50),\n",
    "    `name` VARCHAR(255),\n",
    "    `type` VARCHAR(100),\n",
    "    `address` TEXT,\n",
    "    `city` VARCHAR(100),\n",
    "    `locality` VARCHAR(100),\n",
    "    `latitude` FLOAT,\n",
    "    `longitude` FLOAT,\n",
    "    `cuisines` TEXT,\n",
    "    `timings` TEXT,\n",
    "    `average_cost_for_two` INT,\n",
    "    `price_range` INT,\n",
    "    `highlights` TEXT,\n",
    "    `aggregate_rating` FLOAT,\n",
    "    `votes` INT,\n",
    "    `photo_count` INT,\n",
    "    `opentable_support` VARCHAR(5),\n",
    "    `delivery` VARCHAR(5),\n",
    "    `state` VARCHAR(100),\n",
    "    `area` VARCHAR(100)\n",
    ");\n",
    "\n",
    "\"\"\"\n",
    "\n",
    "cursor.execute(create_table_query)\n",
    "conn.commit()"
   ]
  },
  {
   "cell_type": "markdown",
   "metadata": {},
   "source": [
    "## Insert Data into the table "
   ]
  },
  {
   "cell_type": "code",
   "execution_count": 5,
   "metadata": {},
   "outputs": [
    {
     "name": "stdout",
     "output_type": "stream",
     "text": [
      "✅ Data inserted successfully\n"
     ]
    }
   ],
   "source": [
    "for _, row in dataset.iterrows():\n",
    "    # Convert timestamp to string format that MySQL can understand\n",
    "    row_data = list(row)\n",
    "    if isinstance(row_data[3], pd.Timestamp):  # Order Date is at index 3\n",
    "        row_data[3] = row_data[3].strftime('%Y-%m-%d')\n",
    "    \n",
    "    insert_query = \"\"\"\n",
    "    INSERT INTO zomato_orders VALUES (%s, %s, %s, %s, %s, %s, %s, %s, %s, %s, %s, %s, %s, %s, %s, %s, %s, %s, %s, %s, %s, %s, %s, %s, %s, %s, %s, %s, %s, %s, %s, %s, %s)\n",
    "    \"\"\"\n",
    "    cursor.execute(insert_query, tuple(row_data))\n",
    "\n",
    "conn.commit()\n",
    "print(\"✅ Data inserted successfully\")\n"
   ]
  },
  {
   "cell_type": "code",
   "execution_count": 6,
   "metadata": {},
   "outputs": [],
   "source": [
    "## DROP TABLE COMMAND\n",
    "# cursor.execute(\"DROP TABLE IF EXISTS zomato_orders\")"
   ]
  },
  {
   "cell_type": "code",
   "execution_count": 7,
   "metadata": {},
   "outputs": [],
   "source": [
    "cursor.close()\n",
    "conn.close()"
   ]
  },
  {
   "cell_type": "markdown",
   "metadata": {},
   "source": [
    "## zomato data operations"
   ]
  },
  {
   "cell_type": "code",
   "execution_count": 8,
   "metadata": {},
   "outputs": [
    {
     "name": "stdout",
     "output_type": "stream",
     "text": [
      "✅ Database Access Granted, Syncing all Data!!\n"
     ]
    }
   ],
   "source": [
    "try : \n",
    "    conn = mysql.connector.connect(\n",
    "        host = \"localhost\",\n",
    "        user = \"root\",\n",
    "        password = \"sa1tya@1005\",\n",
    "        database=\"cleaned_zomato_data\"\n",
    "    )\n",
    "\n",
    "    if conn.is_connected():\n",
    "        print(\"✅ Database Access Granted, Syncing all Data!!\")\n",
    "except Error as e:\n",
    "        print(f'❌ Error : {e}')"
   ]
  },
  {
   "cell_type": "code",
   "execution_count": 9,
   "metadata": {},
   "outputs": [
    {
     "name": "stdout",
     "output_type": "stream",
     "text": [
      "    order_month  total_orders\n",
      "0             4          2334\n",
      "1             1          2346\n",
      "2             2          2136\n",
      "3             7          2468\n",
      "4             6          2284\n",
      "5             8          2266\n",
      "6             5          2332\n",
      "7             9          2386\n",
      "8            10          1232\n",
      "9            11          1048\n",
      "10            3          2262\n",
      "11           12          1064\n"
     ]
    },
    {
     "name": "stderr",
     "output_type": "stream",
     "text": [
      "C:\\Users\\hp\\AppData\\Local\\Temp\\ipykernel_9224\\1105522004.py:2: UserWarning: pandas only supports SQLAlchemy connectable (engine/connection) or database string URI or sqlite3 DBAPI2 connection. Other DBAPI2 objects are not tested. Please consider using SQLAlchemy.\n",
      "  Grouping_filtering_orders_by_time = pd.read_sql(\"SELECT MONTH(`Order Date`) AS order_month, COUNT(*) AS total_orders FROM zomato_orders GROUP BY MONTH(`Order Date`);\",conn)\n"
     ]
    }
   ],
   "source": [
    "# cursor = conn.cursor()\n",
    "Grouping_filtering_orders_by_time = pd.read_sql(\"SELECT MONTH(`Order Date`) AS order_month, COUNT(*) AS total_orders FROM zomato_orders GROUP BY MONTH(`Order Date`);\",conn)\n",
    "# cursor.execute(Grouping_filtering_orders_by_time,conn)\n",
    "\n",
    "print(Grouping_filtering_orders_by_time)"
   ]
  },
  {
   "cell_type": "markdown",
   "metadata": {},
   "source": [
    "## Finding top-rated restaurants"
   ]
  },
  {
   "cell_type": "code",
   "execution_count": 10,
   "metadata": {},
   "outputs": [
    {
     "name": "stdout",
     "output_type": "stream",
     "text": [
      "                   name  avg_rating  total_reviews\n",
      "0        qabil-e-tareef         5.0              2\n",
      "1      maa ambey sweets         5.0              2\n",
      "2                 robot         5.0              2\n",
      "3  manis chettinad mess         5.0              2\n",
      "4             eatalio's         5.0              4\n",
      "5     stream restaurant         5.0              2\n",
      "6    lovely bake studio         5.0              2\n",
      "7           desi dakaar         5.0              2\n",
      "8         ghar ka khana         5.0              2\n",
      "9                chaska         5.0              2\n"
     ]
    },
    {
     "name": "stderr",
     "output_type": "stream",
     "text": [
      "C:\\Users\\hp\\AppData\\Local\\Temp\\ipykernel_9224\\2903537639.py:1: UserWarning: pandas only supports SQLAlchemy connectable (engine/connection) or database string URI or sqlite3 DBAPI2 connection. Other DBAPI2 objects are not tested. Please consider using SQLAlchemy.\n",
      "  top_rated_restaurants = pd.read_sql(\"\"\"SELECT `name`, AVG(`Rating`) AS avg_rating, COUNT(*) AS total_reviews\n"
     ]
    }
   ],
   "source": [
    "top_rated_restaurants = pd.read_sql(\"\"\"SELECT `name`, AVG(`Rating`) AS avg_rating, COUNT(*) AS total_reviews\n",
    "FROM zomato_orders\n",
    "GROUP BY `name`\n",
    "ORDER BY avg_rating DESC\n",
    "LIMIT 10;\"\"\"\n",
    ",conn)\n",
    "\n",
    "print(top_rated_restaurants)"
   ]
  },
  {
   "cell_type": "markdown",
   "metadata": {},
   "source": [
    "## Calculating average order value per city"
   ]
  },
  {
   "cell_type": "code",
   "execution_count": 11,
   "metadata": {},
   "outputs": [
    {
     "name": "stderr",
     "output_type": "stream",
     "text": [
      "C:\\Users\\hp\\AppData\\Local\\Temp\\ipykernel_9224\\3614253614.py:1: UserWarning: pandas only supports SQLAlchemy connectable (engine/connection) or database string URI or sqlite3 DBAPI2 connection. Other DBAPI2 objects are not tested. Please consider using SQLAlchemy.\n",
      "  average_order_per_city = pd.read_sql(\"\"\"SELECT `city`, AVG(`Order Amount (INR)`) as avg_orders FROM zomato_orders GROUP BY `city` ORDER BY avg_orders DESC;\"\"\",conn)\n"
     ]
    },
    {
     "name": "stdout",
     "output_type": "stream",
     "text": [
      "           city   avg_orders\n",
      "0        howrah  2314.571429\n",
      "1     panchkula  1794.678571\n",
      "2   gandhinagar  1794.363636\n",
      "3          agra  1784.623656\n",
      "4         thane  1776.710843\n",
      "..          ...          ...\n",
      "71      vellore  1381.178082\n",
      "72     siliguri  1376.773196\n",
      "73    ghaziabad  1342.600000\n",
      "74       guntur  1333.000000\n",
      "75     srinagar  1324.900000\n",
      "\n",
      "[76 rows x 2 columns]\n"
     ]
    }
   ],
   "source": [
    "average_order_per_city = pd.read_sql(\"\"\"SELECT `city`, AVG(`Order Amount (INR)`) as avg_orders FROM zomato_orders GROUP BY `city` ORDER BY avg_orders DESC;\"\"\",conn)\n",
    "print(average_order_per_city)"
   ]
  },
  {
   "cell_type": "markdown",
   "metadata": {},
   "source": [
    "## Which cities have the highest average tips?"
   ]
  },
  {
   "cell_type": "code",
   "execution_count": 12,
   "metadata": {},
   "outputs": [
    {
     "name": "stderr",
     "output_type": "stream",
     "text": [
      "C:\\Users\\hp\\AppData\\Local\\Temp\\ipykernel_9224\\4027289589.py:1: UserWarning: pandas only supports SQLAlchemy connectable (engine/connection) or database string URI or sqlite3 DBAPI2 connection. Other DBAPI2 objects are not tested. Please consider using SQLAlchemy.\n",
      "  highest_average_tips = pd.read_sql(\"\"\"SELECT `city`, AVG(`Tip Amount (INR)`) as avg_tip\n"
     ]
    },
    {
     "name": "stdout",
     "output_type": "stream",
     "text": [
      "            city     avg_tip\n",
      "0          udupi  114.285714\n",
      "1         shimla  113.571429\n",
      "2        gwalior  110.612069\n",
      "3      kharagpur  109.583333\n",
      "4         nashik  108.342857\n",
      "..           ...         ...\n",
      "71      guwahati   83.745342\n",
      "72  secunderabad   83.230769\n",
      "73     faridabad   77.944444\n",
      "74     ghaziabad   77.266667\n",
      "75      junagadh   68.928571\n",
      "\n",
      "[76 rows x 2 columns]\n"
     ]
    }
   ],
   "source": [
    "highest_average_tips = pd.read_sql(\"\"\"SELECT `city`, AVG(`Tip Amount (INR)`) as avg_tip\n",
    "                                    FROM zomato_orders GROUP BY `city` \n",
    "                                    ORDER BY avg_tip DESC;\n",
    "                                   \"\"\", conn)\n",
    "print(highest_average_tips)"
   ]
  },
  {
   "cell_type": "markdown",
   "metadata": {},
   "source": [
    "## Does free delivery impact average rating?"
   ]
  },
  {
   "cell_type": "code",
   "execution_count": 13,
   "metadata": {},
   "outputs": [
    {
     "name": "stderr",
     "output_type": "stream",
     "text": [
      "C:\\Users\\hp\\AppData\\Local\\Temp\\ipykernel_9224\\2004066385.py:1: UserWarning: pandas only supports SQLAlchemy connectable (engine/connection) or database string URI or sqlite3 DBAPI2 connection. Other DBAPI2 objects are not tested. Please consider using SQLAlchemy.\n",
      "  free_delivery_avg_rating = pd.read_sql(\"\"\"\n"
     ]
    },
    {
     "name": "stdout",
     "output_type": "stream",
     "text": [
      "  Has Free Delivery  avg_rating\n",
      "0                no    2.995925\n",
      "1               yes    3.012797\n"
     ]
    }
   ],
   "source": [
    "free_delivery_avg_rating = pd.read_sql(\"\"\"\n",
    "    SELECT `Has Free Delivery`, AVG(`Rating`) as avg_rating FROM zomato_orders GROUP BY `Has Free Delivery`;\n",
    "\"\"\",conn)\n",
    "print(free_delivery_avg_rating)"
   ]
  },
  {
   "cell_type": "markdown",
   "metadata": {},
   "source": [
    "## Which restaurant types are most popular in each state?"
   ]
  },
  {
   "cell_type": "code",
   "execution_count": 30,
   "metadata": {},
   "outputs": [
    {
     "name": "stdout",
     "output_type": "stream",
     "text": [
      "           state           type  total_orders\n",
      "0    maharashtra  casual dining          1190\n",
      "1    maharashtra    quick bites           892\n",
      "2  uttar pradesh    quick bites           872\n",
      "3     tamil nadu  casual dining           722\n",
      "4  uttar pradesh  casual dining           530\n"
     ]
    },
    {
     "name": "stderr",
     "output_type": "stream",
     "text": [
      "C:\\Users\\hp\\AppData\\Local\\Temp\\ipykernel_9224\\1263305965.py:1: UserWarning: pandas only supports SQLAlchemy connectable (engine/connection) or database string URI or sqlite3 DBAPI2 connection. Other DBAPI2 objects are not tested. Please consider using SQLAlchemy.\n",
      "  famous_restraunt_by_state = pd.read_sql(\"\"\"SELECT `state`, `type`, COUNT(*) as total_orders\n"
     ]
    }
   ],
   "source": [
    "famous_restraunt_by_state = pd.read_sql(\"\"\"SELECT `state`, `type`, COUNT(*) as total_orders\n",
    "                                        FROM zomato_orders\n",
    "                                        GROUP BY `state`, `type` \n",
    "                                        ORDER BY total_orders DESC ;\"\"\",\n",
    "                                        conn)\n",
    "print(famous_restraunt_by_state.head())"
   ]
  },
  {
   "cell_type": "markdown",
   "metadata": {},
   "source": [
    "## Is there a correlation between delivery distance and rating?"
   ]
  },
  {
   "cell_type": "code",
   "execution_count": null,
   "metadata": {},
   "outputs": [
    {
     "name": "stderr",
     "output_type": "stream",
     "text": [
      "C:\\Users\\hp\\AppData\\Local\\Temp\\ipykernel_9224\\1738916049.py:1: UserWarning: pandas only supports SQLAlchemy connectable (engine/connection) or database string URI or sqlite3 DBAPI2 connection. Other DBAPI2 objects are not tested. Please consider using SQLAlchemy.\n",
      "  relation_df = pd.read_sql(\"SELECT `Delivery Distance (km)`, `Rating` FROM zomato_orders\", conn)\n"
     ]
    },
    {
     "name": "stdout",
     "output_type": "stream",
     "text": [
      "                        Delivery Distance (km)    Rating\n",
      "Delivery Distance (km)                1.000000  0.000809\n",
      "Rating                                0.000809  1.000000\n"
     ]
    }
   ],
   "source": [
    "relation_df = pd.read_sql(\"SELECT `Delivery Distance (km)`, `Rating` FROM zomato_orders\", conn)\n",
    "correlation = relation_df.corr()\n",
    "print(correlation)"
   ]
  },
  {
   "cell_type": "markdown",
   "metadata": {},
   "source": [
    "## Is there a correlation between delivery distance and rating?"
   ]
  },
  {
   "cell_type": "code",
   "execution_count": 42,
   "metadata": {},
   "outputs": [
    {
     "name": "stderr",
     "output_type": "stream",
     "text": [
      "C:\\Users\\hp\\AppData\\Local\\Temp\\ipykernel_9224\\820359877.py:1: UserWarning: pandas only supports SQLAlchemy connectable (engine/connection) or database string URI or sqlite3 DBAPI2 connection. Other DBAPI2 objects are not tested. Please consider using SQLAlchemy.\n",
      "  relation_between_delivery_dist_and_rating = pd.read_sql(\"\"\"\n"
     ]
    },
    {
     "name": "stdout",
     "output_type": "stream",
     "text": [
      "       Delivery Distance (km)  Rating\n",
      "0                     9.20002     4.6\n",
      "1                     8.17507     2.7\n",
      "2                    13.28040     3.9\n",
      "3                    11.89290     1.9\n",
      "4                     2.57048     3.4\n",
      "...                       ...     ...\n",
      "24153                 5.47461     2.8\n",
      "24154                12.49950     4.4\n",
      "24155                 1.00619     2.0\n",
      "24156                 1.00619     2.0\n",
      "24157                 2.76967     2.7\n",
      "\n",
      "[24158 rows x 2 columns]\n"
     ]
    }
   ],
   "source": [
    "relation_between_delivery_dist_and_rating = pd.read_sql(\"\"\"\n",
    "    SELECT `Delivery Distance (km)`, `Rating` FROM zomato_orders;\"\"\",conn)\n",
    "\n",
    "print(relation_between_delivery_dist_and_rating)"
   ]
  },
  {
   "cell_type": "markdown",
   "metadata": {},
   "source": [
    "## What is the monthly growth in order volume?"
   ]
  },
  {
   "cell_type": "code",
   "execution_count": 50,
   "metadata": {},
   "outputs": [
    {
     "name": "stderr",
     "output_type": "stream",
     "text": [
      "C:\\Users\\hp\\AppData\\Local\\Temp\\ipykernel_9224\\3175125549.py:1: UserWarning: pandas only supports SQLAlchemy connectable (engine/connection) or database string URI or sqlite3 DBAPI2 connection. Other DBAPI2 objects are not tested. Please consider using SQLAlchemy.\n",
      "  monthly_growth = pd.read_sql(\"\"\"\n"
     ]
    }
   ],
   "source": [
    "monthly_growth = pd.read_sql(\"\"\"\n",
    "    SELECT DATE_FORMAT(`Order Date`,'%y-%m') as order_month, \n",
    "    COUNT(*) as total_orders\n",
    "    FROM zomato_orders\n",
    "    GROUP BY order_month\n",
    "    ORDER BY order_month;\n",
    "\"\"\",conn)\n",
    "\n",
    "# print(monthly_growth)"
   ]
  },
  {
   "cell_type": "markdown",
   "metadata": {},
   "source": [
    "## Calculate the growth rate per month"
   ]
  },
  {
   "cell_type": "code",
   "execution_count": null,
   "metadata": {},
   "outputs": [
    {
     "name": "stdout",
     "output_type": "stream",
     "text": [
      "   order_month  total_orders   growth_%\n",
      "0        23-01          1188        NaN\n",
      "1        23-02          1006 -15.319865\n",
      "2        23-03          1086   7.952286\n",
      "3        23-04          1206  11.049724\n",
      "4        23-05          1224   1.492537\n",
      "5        23-06          1124  -8.169935\n",
      "6        23-07          1232   9.608541\n",
      "7        23-08          1140  -7.467532\n",
      "8        23-09          1174   2.982456\n",
      "9        23-10          1196   1.873935\n",
      "10       23-11          1048 -12.374582\n",
      "11       23-12          1064   1.526718\n",
      "12       24-01          1158   8.834586\n",
      "13       24-02          1130  -2.417962\n",
      "14       24-03          1176   4.070796\n",
      "15       24-04          1128  -4.081633\n",
      "16       24-05          1108  -1.773050\n",
      "17       24-06          1160   4.693141\n",
      "18       24-07          1236   6.551724\n",
      "19       24-08          1126  -8.899676\n",
      "20       24-09          1212   7.637655\n",
      "21       24-10            36 -97.029703\n"
     ]
    }
   ],
   "source": [
    "monthly_growth['growth_%'] = monthly_growth['total_orders'].pct_change() * 100\n",
    "print(monthly_growth)"
   ]
  }
 ],
 "metadata": {
  "kernelspec": {
   "display_name": "Python 3",
   "language": "python",
   "name": "python3"
  },
  "language_info": {
   "codemirror_mode": {
    "name": "ipython",
    "version": 3
   },
   "file_extension": ".py",
   "mimetype": "text/x-python",
   "name": "python",
   "nbconvert_exporter": "python",
   "pygments_lexer": "ipython3",
   "version": "3.13.3"
  }
 },
 "nbformat": 4,
 "nbformat_minor": 2
}
