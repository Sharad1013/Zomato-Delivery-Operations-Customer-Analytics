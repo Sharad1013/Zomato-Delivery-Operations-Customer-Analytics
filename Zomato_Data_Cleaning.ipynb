{
 "cells": [
  {
   "cell_type": "markdown",
   "metadata": {},
   "source": [
    "## Data Cleaning and Preprocessing"
   ]
  },
  {
   "cell_type": "code",
   "execution_count": 38,
   "metadata": {},
   "outputs": [],
   "source": [
    "import pandas as pd\n",
    "import numpy as np\n",
    "import matplotlib.pyplot as plt"
   ]
  },
  {
   "cell_type": "code",
   "execution_count": 39,
   "metadata": {},
   "outputs": [
    {
     "name": "stdout",
     "output_type": "stream",
     "text": [
      "   Order ID  Order Amount (INR)  Delivery Time (mins) Order Date  Rating  \\\n",
      "0         1                1930                    32 2023-04-30     4.6   \n",
      "1         2                 371                    84 2023-01-06     2.7   \n",
      "\n",
      "   Number of Items  Delivery Distance (km)  Delivery Agent ID Order Status  \\\n",
      "0                9                9.200017                995    Cancelled   \n",
      "1                1                8.175074                941    Cancelled   \n",
      "\n",
      "  Payment Method  ...  average_cost_for_two price_range  \\\n",
      "0     Debit Card  ...                   200           1   \n",
      "1            UPI  ...                  1000           3   \n",
      "\n",
      "                                          highlights  aggregate_rating votes  \\\n",
      "0  ['Credit Card', 'Delivery', 'Takeaway Availabl...               0.0     3   \n",
      "1  ['Cash', 'Takeaway Available', 'Breakfast', 'N...               3.6    32   \n",
      "\n",
      "  photo_count opentable_support delivery          state    area  \n",
      "0           0               0.0        0         Kerala   38863  \n",
      "1          30               0.0        1  Uttar Pradesh  240928  \n",
      "\n",
      "[2 rows x 33 columns]\n"
     ]
    }
   ],
   "source": [
    "dataset = pd.read_excel(\"zomato_data.xlsx\", engine='openpyxl')\n",
    "print(dataset.head(2))"
   ]
  },
  {
   "cell_type": "markdown",
   "metadata": {},
   "source": [
    "## Checking for null values"
   ]
  },
  {
   "cell_type": "code",
   "execution_count": 40,
   "metadata": {},
   "outputs": [
    {
     "name": "stdout",
     "output_type": "stream",
     "text": [
      "Order ID                    0\n",
      "Order Amount (INR)          0\n",
      "Delivery Time (mins)        0\n",
      "Order Date                  0\n",
      "Rating                      0\n",
      "Number of Items             0\n",
      "Delivery Distance (km)      0\n",
      "Delivery Agent ID           0\n",
      "Order Status                0\n",
      "Payment Method              0\n",
      "Tip Amount (INR)            0\n",
      "Promo Code Applied          0\n",
      "Has Free Delivery           0\n",
      "res_id                      0\n",
      "name                        0\n",
      "type                      341\n",
      "address                     5\n",
      "city                        0\n",
      "locality                    0\n",
      "latitude                    0\n",
      "longitude                   0\n",
      "cuisines                   75\n",
      "timings                   176\n",
      "average_cost_for_two        0\n",
      "price_range                 0\n",
      "highlights                  0\n",
      "aggregate_rating            0\n",
      "votes                       0\n",
      "photo_count                 0\n",
      "opentable_support           8\n",
      "delivery                    0\n",
      "state                       0\n",
      "area                        0\n",
      "dtype: int64\n"
     ]
    }
   ],
   "source": [
    "print(dataset.isnull().sum())"
   ]
  },
  {
   "cell_type": "markdown",
   "metadata": {},
   "source": [
    "## Treating the null values as per their datatype"
   ]
  },
  {
   "cell_type": "code",
   "execution_count": 41,
   "metadata": {},
   "outputs": [
    {
     "name": "stdout",
     "output_type": "stream",
     "text": [
      "type                      2.823081\n",
      "timings                   1.457074\n",
      "cuisines                  0.620912\n",
      "opentable_support         0.066231\n",
      "address                   0.041394\n",
      "Order ID                  0.000000\n",
      "Number of Items           0.000000\n",
      "Order Amount (INR)        0.000000\n",
      "Delivery Time (mins)      0.000000\n",
      "Order Status              0.000000\n",
      "Delivery Agent ID         0.000000\n",
      "Payment Method            0.000000\n",
      "Tip Amount (INR)          0.000000\n",
      "Has Free Delivery         0.000000\n",
      "Delivery Distance (km)    0.000000\n",
      "Order Date                0.000000\n",
      "Rating                    0.000000\n",
      "res_id                    0.000000\n",
      "name                      0.000000\n",
      "Promo Code Applied        0.000000\n",
      "city                      0.000000\n",
      "longitude                 0.000000\n",
      "latitude                  0.000000\n",
      "average_cost_for_two      0.000000\n",
      "locality                  0.000000\n",
      "price_range               0.000000\n",
      "highlights                0.000000\n",
      "votes                     0.000000\n",
      "aggregate_rating          0.000000\n",
      "photo_count               0.000000\n",
      "delivery                  0.000000\n",
      "state                     0.000000\n",
      "area                      0.000000\n",
      "dtype: float64\n"
     ]
    }
   ],
   "source": [
    "# Check percentage of missing values\n",
    "null_values_Percentage = dataset.isnull().mean() * 100\n",
    "print(null_values_Percentage.sort_values(ascending=False))"
   ]
  },
  {
   "cell_type": "markdown",
   "metadata": {},
   "source": [
    "## Fill Categorical Columns using Mode and the numerical columns using mean or median.\n",
    "\n",
    "### mode -->> gives us the most frequent values. "
   ]
  },
  {
   "cell_type": "code",
   "execution_count": 42,
   "metadata": {},
   "outputs": [],
   "source": [
    "# Fill missing values in categorical columns with mode\n",
    "categorical_cols = ['type', 'timings', 'cuisines', 'address']\n",
    "\n",
    "for col in categorical_cols:\n",
    "    # take out the mode of each column\n",
    "    most_frequent_value = dataset[col].mode()[0] # mode returns a series so pick the top one\n",
    "    dataset[col] = dataset[col].fillna(most_frequent_value)"
   ]
  },
  {
   "cell_type": "markdown",
   "metadata": {},
   "source": [
    "## treating the null values in the numerical column opentable_support \n",
    "This field consists all the value as 0 so directly mark as 0"
   ]
  },
  {
   "cell_type": "code",
   "execution_count": 43,
   "metadata": {},
   "outputs": [
    {
     "name": "stdout",
     "output_type": "stream",
     "text": [
      "Nulls after filling:\n",
      "Order ID                  0\n",
      "Order Amount (INR)        0\n",
      "Delivery Time (mins)      0\n",
      "Order Date                0\n",
      "Rating                    0\n",
      "Number of Items           0\n",
      "Delivery Distance (km)    0\n",
      "Delivery Agent ID         0\n",
      "Order Status              0\n",
      "Payment Method            0\n",
      "Tip Amount (INR)          0\n",
      "Promo Code Applied        0\n",
      "Has Free Delivery         0\n",
      "res_id                    0\n",
      "name                      0\n",
      "type                      0\n",
      "address                   0\n",
      "city                      0\n",
      "locality                  0\n",
      "latitude                  0\n",
      "longitude                 0\n",
      "cuisines                  0\n",
      "timings                   0\n",
      "average_cost_for_two      0\n",
      "price_range               0\n",
      "highlights                0\n",
      "aggregate_rating          0\n",
      "votes                     0\n",
      "photo_count               0\n",
      "opentable_support         0\n",
      "delivery                  0\n",
      "state                     0\n",
      "area                      0\n",
      "dtype: int64\n"
     ]
    }
   ],
   "source": [
    "dataset[\"opentable_support\"] = dataset[\"opentable_support\"].fillna(0)\n",
    "\n",
    "print(\"Nulls after filling:\")\n",
    "print(dataset.isnull().sum())"
   ]
  },
  {
   "cell_type": "markdown",
   "metadata": {},
   "source": [
    "## Checking for duplicate values in the dataset"
   ]
  },
  {
   "cell_type": "code",
   "execution_count": 44,
   "metadata": {},
   "outputs": [
    {
     "name": "stdout",
     "output_type": "stream",
     "text": [
      "Duplicate rows 216\n",
      "After dropping, duplicate rows: 0\n"
     ]
    }
   ],
   "source": [
    "# Checking for duplicates \n",
    "print(\"Duplicate rows\",dataset.duplicated().sum())\n",
    "\n",
    "# Remove duplicates (keep the first occurrence)\n",
    "dataset = dataset.drop_duplicates()\n",
    "\n",
    "# Confirm removal\n",
    "print(\"After dropping, duplicate rows:\", dataset.duplicated().sum())"
   ]
  },
  {
   "cell_type": "code",
   "execution_count": 45,
   "metadata": {},
   "outputs": [
    {
     "name": "stdout",
     "output_type": "stream",
     "text": [
      "<class 'pandas.core.frame.DataFrame'>\n",
      "RangeIndex: 12079 entries, 0 to 12078\n",
      "Data columns (total 33 columns):\n",
      " #   Column                  Non-Null Count  Dtype         \n",
      "---  ------                  --------------  -----         \n",
      " 0   Order ID                12079 non-null  int64         \n",
      " 1   Order Amount (INR)      12079 non-null  int64         \n",
      " 2   Delivery Time (mins)    12079 non-null  int64         \n",
      " 3   Order Date              12079 non-null  datetime64[ns]\n",
      " 4   Rating                  12079 non-null  float64       \n",
      " 5   Number of Items         12079 non-null  int64         \n",
      " 6   Delivery Distance (km)  12079 non-null  float64       \n",
      " 7   Delivery Agent ID       12079 non-null  int64         \n",
      " 8   Order Status            12079 non-null  object        \n",
      " 9   Payment Method          12079 non-null  object        \n",
      " 10  Tip Amount (INR)        12079 non-null  int64         \n",
      " 11  Promo Code Applied      12079 non-null  object        \n",
      " 12  Has Free Delivery       12079 non-null  object        \n",
      " 13  res_id                  12079 non-null  int64         \n",
      " 14  name                    12079 non-null  object        \n",
      " 15  type                    11738 non-null  object        \n",
      " 16  address                 12074 non-null  object        \n",
      " 17  city                    12079 non-null  object        \n",
      " 18  locality                12079 non-null  object        \n",
      " 19  latitude                12079 non-null  float64       \n",
      " 20  longitude               12079 non-null  float64       \n",
      " 21  cuisines                12004 non-null  object        \n",
      " 22  timings                 11903 non-null  object        \n",
      " 23  average_cost_for_two    12079 non-null  int64         \n",
      " 24  price_range             12079 non-null  int64         \n",
      " 25  highlights              12079 non-null  object        \n",
      " 26  aggregate_rating        12079 non-null  float64       \n",
      " 27  votes                   12079 non-null  int64         \n",
      " 28  photo_count             12079 non-null  int64         \n",
      " 29  opentable_support       12071 non-null  float64       \n",
      " 30  delivery                12079 non-null  int64         \n",
      " 31  state                   12079 non-null  object        \n",
      " 32  area                    12079 non-null  int64         \n",
      "dtypes: datetime64[ns](1), float64(6), int64(13), object(13)\n",
      "memory usage: 3.0+ MB\n",
      "None\n"
     ]
    }
   ],
   "source": [
    "# Load the Excel file properly\n",
    "dataset = pd.read_excel(\"zomato_data.xlsx\", engine='openpyxl')  # include full file name\n",
    "\n",
    "# Now check the info again\n",
    "print(dataset.info())"
   ]
  },
  {
   "cell_type": "code",
   "execution_count": 46,
   "metadata": {},
   "outputs": [
    {
     "name": "stdout",
     "output_type": "stream",
     "text": [
      "(12079, 33)\n"
     ]
    }
   ],
   "source": [
    "print(dataset.shape)"
   ]
  },
  {
   "cell_type": "markdown",
   "metadata": {},
   "source": [
    "## Casting all numeric columns to numeric by automatically detecting the numeric values"
   ]
  },
  {
   "cell_type": "code",
   "execution_count": 47,
   "metadata": {},
   "outputs": [
    {
     "name": "stdout",
     "output_type": "stream",
     "text": [
      "❌ Left as object (categorical): Order Status\n",
      "❌ Left as object (categorical): Payment Method\n",
      "❌ Left as object (categorical): Promo Code Applied\n",
      "❌ Left as object (categorical): Has Free Delivery\n",
      "❌ Left as object (categorical): name\n",
      "❌ Left as object (categorical): type\n",
      "❌ Left as object (categorical): address\n",
      "❌ Left as object (categorical): city\n",
      "❌ Left as object (categorical): locality\n",
      "❌ Left as object (categorical): cuisines\n",
      "❌ Left as object (categorical): timings\n",
      "❌ Left as object (categorical): highlights\n",
      "❌ Left as object (categorical): state\n"
     ]
    }
   ],
   "source": [
    "for col in dataset.select_dtypes(include=\"object\").columns:\n",
    "    try:\n",
    "        temp_col = pd.to_numeric(dataset[col],errors=\"coerce\")\n",
    "        # check if the columns contains even a single value other than NAN.\n",
    "        # If some non-NaN values exist after conversion, it's likely numeric\n",
    "        if temp_col.notna().sum() > 0:\n",
    "            dataset[col] = temp_col\n",
    "            print(f\"Converted the Column {col}\")\n",
    "        else:\n",
    "            print(f\"❌ Left as object (categorical): {col}\")\n",
    "    except:\n",
    "        print(f\"{col} is not eligible for conversion\")"
   ]
  },
  {
   "cell_type": "markdown",
   "metadata": {},
   "source": [
    "## Check for outliers"
   ]
  },
  {
   "cell_type": "code",
   "execution_count": 48,
   "metadata": {},
   "outputs": [
    {
     "data": {
      "image/png": "[encoded data removed]",
      "text/plain": [
       "<Figure size 640x480 with 1 Axes>"
      ]
     },
     "metadata": {},
     "output_type": "display_data"
    }
   ],
   "source": [
    "import seaborn as sns\n",
    "\n",
    "sns.boxplot(dataset[\"Delivery Time (mins)\"])\n",
    "plt.grid(True)\n",
    "plt.show()\n",
    "\n",
    "# From the boxplot we can understand that the \n",
    "# Lower Whisker (within the range of Q1 - 1.5 * IQR) --> fastest delivery are under 10 minutes\n",
    "# 25% (q1) of the orders are delivered within 30 minutes.\n",
    "# 50% (median) of the orders are delivered within 50 minutes.\n",
    "# 75% (q3) of the orders are delivered within 70 minutes.\n",
    "# Upper whisker (within the range of Q3 + 1.5 + IQR) --> at 90 so the most delayed delivery was done under 90 minutes.\n",
    "# Any data beyond the whiskers can be termed as outliers. \n",
    "# so IQR (interquartilerange = Q3 - Q1 , in this case == 70 - 30 = 40)"
   ]
  },
  {
   "cell_type": "markdown",
   "metadata": {},
   "source": [
    "## Check for consistency in Categorical columns i.e object types\n",
    "#### convert all of them into the lowercase values "
   ]
  },
  {
   "cell_type": "code",
   "execution_count": 49,
   "metadata": {},
   "outputs": [
    {
     "name": "stdout",
     "output_type": "stream",
     "text": [
      "Index(['Order ID', 'Order Amount (INR)', 'Delivery Time (mins)', 'Order Date',\n",
      "       'Rating', 'Number of Items', 'Delivery Distance (km)',\n",
      "       'Delivery Agent ID', 'Order Status', 'Payment Method',\n",
      "       'Tip Amount (INR)', 'Promo Code Applied', 'Has Free Delivery', 'res_id',\n",
      "       'name', 'type', 'address', 'city', 'locality', 'latitude', 'longitude',\n",
      "       'cuisines', 'timings', 'average_cost_for_two', 'price_range',\n",
      "       'highlights', 'aggregate_rating', 'votes', 'photo_count',\n",
      "       'opentable_support', 'delivery', 'state', 'area'],\n",
      "      dtype='object')\n"
     ]
    }
   ],
   "source": [
    "for col in dataset.select_dtypes(include=\"object\").columns:\n",
    "    dataset[col] = dataset[col].str.strip().str.lower()\n",
    "print(dataset.columns)"
   ]
  },
  {
   "cell_type": "code",
   "execution_count": 50,
   "metadata": {},
   "outputs": [],
   "source": [
    "dataset.to_excel(\"cleaned_zomato_data.xlsx\", index=False)\n"
   ]
  }
 ],
 "metadata": {
  "kernelspec": {
   "display_name": "Python 3",
   "language": "python",
   "name": "python3"
  },
  "language_info": {
   "codemirror_mode": {
    "name": "ipython",
    "version": 3
   },
   "file_extension": ".py",
   "mimetype": "text/x-python",
   "name": "python",
   "nbconvert_exporter": "python",
   "pygments_lexer": "ipython3",
   "version": "3.13.3"
  }
 },
 "nbformat": 4,
 "nbformat_minor": 2
}
